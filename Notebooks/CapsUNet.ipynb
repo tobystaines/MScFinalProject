{
 "cells": [
  {
   "cell_type": "code",
   "execution_count": 1,
   "metadata": {},
   "outputs": [
    {
     "name": "stderr",
     "output_type": "stream",
     "text": [
      "C:\\Program Files\\Anaconda3\\lib\\site-packages\\h5py\\__init__.py:36: FutureWarning: Conversion of the second argument of issubdtype from `float` to `np.floating` is deprecated. In future, it will be treated as `np.float64 == np.dtype(float).type`.\n",
      "  from ._conv import register_converters as _register_converters\n"
     ]
    }
   ],
   "source": [
    "import os,sys,inspect\n",
    "currentdir = os.path.dirname(os.path.abspath(inspect.getfile(inspect.currentframe())))\n",
    "parentdir = os.path.dirname(currentdir)\n",
    "sys.path.insert(0,parentdir)\n",
    "\n",
    "import capslayer as cl\n",
    "import tensorflow as tf\n",
    "import Model_functions as mf\n",
    "import Dataset\n",
    "import numpy as np"
   ]
  },
  {
   "cell_type": "markdown",
   "metadata": {},
   "source": [
    "## Data Pipeline"
   ]
  },
  {
   "cell_type": "code",
   "execution_count": 2,
   "metadata": {
    "collapsed": true
   },
   "outputs": [],
   "source": [
    "#  Set other variables\n",
    "sample_rate=16384\n",
    "n_fft=1024\n",
    "fft_hop=256\n",
    "patch_window=256\n",
    "patch_hop=128\n",
    "n_parallel_readers=4\n",
    "normalise=True\n",
    "batch_size = 5\n",
    "shuffle=False\n",
    "n_shuffle = 10\n",
    "\n",
    "directory_a = 'C:/Users/Toby/MSc_Project/Test_Audio/GANdatasetsMini/test/Mixed'\n",
    "directory_b = 'C:/Users/Toby/MSc_Project/Test_Audio/GANdatasetsMini/test/Voice'\n",
    "\n",
    "#  Create the pipeline\n",
    "tf.reset_default_graph()\n",
    "data = Dataset.zip_files(directory_a, directory_b)\n",
    "data = Dataset.get_paired_dataset(data,\n",
    "                                  sample_rate,\n",
    "                                  n_fft,\n",
    "                                  fft_hop,\n",
    "                                  patch_window,\n",
    "                                  patch_hop,\n",
    "                                  n_parallel_readers,\n",
    "                                  batch_size,\n",
    "                                  n_shuffle,\n",
    "                                  normalise)\n",
    "\n",
    "#  Create the iterator\n",
    "mixed_spec, voice_spec, mixed_audio, voice_audio = data.make_one_shot_iterator().get_next()\n",
    "\n",
    "#  Create variable placeholders\n",
    "is_training = tf.placeholder(shape=(), dtype=bool)\n",
    "mixed_mag = tf.expand_dims(mixed_spec[:, :, 1:, 0], 3)\n",
    "mixed_phase = tf.expand_dims(mixed_spec[:, :, 1:, 1], 3)\n",
    "voice_mag = tf.expand_dims(voice_spec[:, :, 1:, 0], 3)"
   ]
  },
  {
   "cell_type": "markdown",
   "metadata": {},
   "source": [
    "## CapsNet Definition"
   ]
  },
  {
   "cell_type": "code",
   "execution_count": 3,
   "metadata": {
    "collapsed": true
   },
   "outputs": [],
   "source": [
    "class basicCapsNet(object):\n",
    "    \n",
    "    def __init__(self, mixed_mag, voice_mag, is_training, reuse=True, name='basic_caps_net'):\n",
    "        \"\"\"\n",
    "        input_tensor: Tensor with shape [batch_size, height, width, channels]\n",
    "        is_training:  Boolean - should the model be trained on the current input or not\n",
    "        name:         Model instance name\n",
    "        \"\"\"\n",
    "        with tf.variable_scope(name):\n",
    "            self.mixed_mag = mixed_mag\n",
    "            self.voice_mag = voice_mag\n",
    "            self.is_training = is_training\n",
    "            \n",
    "            with tf.variable_scope('Convolution'):\n",
    "                net = mf.conv(mixed_mag, filters=128, kernel_size=5, stride=(1, 1))\n",
    "                self.conv1 = net\n",
    "                \n",
    "            with tf.variable_scope('Primary_Caps'):\n",
    "                # poses is the output of each capsule in the layer. Represents the state of the feature which the capsule detects\n",
    "                # probs is the detection probability for each capsule, corresponding to the magnitude of poses\n",
    "                poses, probs = cl.layers.primaryCaps(inputs=net, \n",
    "                                                     filters=16, \n",
    "                                                     kernel_size=5, \n",
    "                                                     strides=(1,1),\n",
    "                                                     out_caps_dims=[8,1], \n",
    "                                                     method='norm')\n",
    "                self.primary_caps = (poses, probs)\n",
    "            \n",
    "            with tf.variable_scope('Conv_Caps'):\n",
    "                poses, probs = cl.layers.conv2d(inputs=poses,\n",
    "                                                activation=probs,\n",
    "                                                filters=1,\n",
    "                                                out_caps_dims=[16,1],\n",
    "                                                kernel_size=1,\n",
    "                                                strides=(1,1),\n",
    "                                                padding=\"valid\",\n",
    "                                                routing_method=\"DynamicRouting\",\n",
    "                                                reuse=None)\n",
    "                self.conv_caps = (poses, probs)\n",
    "            \"\"\"\"\"\"\n",
    "            #with tf.variable_scope('Reconstruction_Conv'): # Output should be (?, 256, 512, 128)\n",
    "            #    net = \n",
    "                \n",
    "            #with tf.vriable_scope('Mask_Constructor'): # Output.shape == mixed_mag.shape ((?, 256, 512, 1))\n",
    "            # Output of caps layers needs to be?\n",
    "            #           Mask of shape [input_tensor]\n",
    "            self.voice_mask = net\n",
    "            #self.gen_voice = self.voice_mask * mixed_mag\n",
    "            \n",
    "            #self.cost = ####\n",
    "            #self.optimizer = ####\n",
    "            #self.training_op = ####"
   ]
  },
  {
   "cell_type": "code",
   "execution_count": 4,
   "metadata": {
    "collapsed": true
   },
   "outputs": [],
   "source": [
    "\n",
    "model = basicCapsNet(mixed_mag, voice_mag, is_training=False)"
   ]
  },
  {
   "cell_type": "code",
   "execution_count": 5,
   "metadata": {},
   "outputs": [
    {
     "data": {
      "text/plain": [
       "(<tf.Tensor 'basic_caps_net/Conv_Caps/conv2d/routing/Squeeze:0' shape=(?, 252, 508, 1, 16, 1) dtype=float32>,\n",
       " <tf.Tensor 'basic_caps_net/Conv_Caps/conv2d/clip_by_value:0' shape=(?, 252, 508, 1) dtype=float32>)"
      ]
     },
     "execution_count": 5,
     "metadata": {},
     "output_type": "execute_result"
    }
   ],
   "source": [
    "model.conv_caps"
   ]
  },
  {
   "cell_type": "markdown",
   "metadata": {},
   "source": [
    "Network so far:\n",
    "- Input: (?, 256, 512, 1)\n",
    "- Convolution: (?, 252, 508, 128)\n",
    "- Primary_Caps: (?, 252, 508, 16, 8, 1), (?, 252, 508, 16)\n",
    "- Conv_Caps: (?, 252, 508, 16, 1), (?, 252, 508, 1)"
   ]
  },
  {
   "cell_type": "markdown",
   "metadata": {},
   "source": [
    "Up-ConvCaps layer needs to:\n",
    "- take - \n",
    "    - input: [batch size, height, width, channels (capsule layer count), caps dims 1, caps dim 2]\n",
    "    - activtion: [batch size, height, width, channels (capsule layer count)]\n",
    "    - output dims: [channels (capsule layer count), caps dims 1, caps dim 2]\n",
    "    - strides\n",
    "    - padding\n",
    "- return - \n",
    "    - output: [batch size, height, width, channels (capsule layer count), caps dims 1, caps dim 2]"
   ]
  },
  {
   "cell_type": "code",
   "execution_count": null,
   "metadata": {
    "collapsed": true
   },
   "outputs": [],
   "source": []
  },
  {
   "cell_type": "markdown",
   "metadata": {},
   "source": [
    "Conv_caps to Conv layer needs to:\n",
    "- take - \n",
    "    - input: 6D Tensor, [batch size, height, width, channels (capsule layer count), caps dims 1, caps dim 2]\n",
    "    - activtion: 4D Tensor, [batch size, height, width, channels (capsule layer count)]\n",
    "    - output filters: int, channels (convolutional filter count)\n",
    "    - strides\n",
    "    - padding\n",
    "- return - \n",
    "    - output: 4D Tensor, [batch size, height, width, channels (convolutional filter count)]"
   ]
  },
  {
   "cell_type": "code",
   "execution_count": null,
   "metadata": {
    "collapsed": true
   },
   "outputs": [],
   "source": []
  },
  {
   "cell_type": "markdown",
   "metadata": {},
   "source": [
    "Mask reconstruction layer needs to:\n",
    "- take - \n",
    "    - input: 4D Tensor, [batch size, height, width, channels (convolutional filter count)]\n",
    "    - activtion: [batch size, height, width, channels (capsule layer count)]\n",
    "    - output filters: int, channels (depth of original input, generally one, but flexibility would be good)\n",
    "    - strides\n",
    "    - padding\n",
    "- return - \n",
    "    - output: 4D Tensor, [batch size, height, width, channels (depth of original input, generally one, but flexibility would be good)]\n",
    "\n",
    "Can this be a normal tf.conv2d_transpose?\n",
    "- Args -\n",
    "    - value: 4D Tensor, [batch, height, width, in_channels]\n",
    "    - filter: 4D Tensor, [height, width, output_channels, in_channels]\n",
    "    - output_shape: 1-D Tensor representing the output shape of the deconvolution op\n",
    "    - strides\n",
    "    - padding\n",
    "- Returns -\n",
    "    - A Tensor with the same type as value"
   ]
  },
  {
   "cell_type": "code",
   "execution_count": null,
   "metadata": {
    "scrolled": true
   },
   "outputs": [],
   "source": [
    "mixed_mag"
   ]
  },
  {
   "cell_type": "code",
   "execution_count": null,
   "metadata": {
    "collapsed": true
   },
   "outputs": [],
   "source": [
    "test = tf.reshape(mixed_mag, shape=[-1, mixed_mag.shape[1], mixed_mag.shape[2], mixed_mag.shape[3]])"
   ]
  },
  {
   "cell_type": "code",
   "execution_count": null,
   "metadata": {
    "collapsed": true
   },
   "outputs": [],
   "source": [
    "test"
   ]
  },
  {
   "cell_type": "code",
   "execution_count": null,
   "metadata": {
    "collapsed": true
   },
   "outputs": [],
   "source": [
    "model.primary_caps[1]"
   ]
  },
  {
   "cell_type": "code",
   "execution_count": null,
   "metadata": {
    "collapsed": true
   },
   "outputs": [],
   "source": []
  },
  {
   "cell_type": "code",
   "execution_count": null,
   "metadata": {
    "collapsed": true
   },
   "outputs": [],
   "source": [
    "test = transforming(model.voice_mask,1, [16,1])"
   ]
  },
  {
   "cell_type": "code",
   "execution_count": null,
   "metadata": {},
   "outputs": [],
   "source": [
    "test"
   ]
  },
  {
   "cell_type": "code",
   "execution_count": null,
   "metadata": {},
   "outputs": [],
   "source": [
    "test2 = cl.layers.conv2d(inputs=model.primary_caps[0],\n",
    "                         activation=model.primary_caps[1],\n",
    "                         filters=1,\n",
    "                         out_caps_dims=[16,1],\n",
    "                         kernel_size=1,\n",
    "                         strides=(1,1),\n",
    "                         padding=\"valid\",\n",
    "                         routing_method=\"DynamicRouting\",\n",
    "                         name=None,\n",
    "                         reuse=None)\n",
    "test2"
   ]
  },
  {
   "cell_type": "code",
   "execution_count": null,
   "metadata": {
    "collapsed": true
   },
   "outputs": [],
   "source": []
  },
  {
   "cell_type": "code",
   "execution_count": null,
   "metadata": {
    "collapsed": true
   },
   "outputs": [],
   "source": [
    "spatial_shape = [1, 2, 3, 4]\n",
    "input_shape = [5,5,5]"
   ]
  },
  {
   "cell_type": "code",
   "execution_count": null,
   "metadata": {},
   "outputs": [],
   "source": [
    "[-1] + spatial_shape + input_shape[1:]"
   ]
  },
  {
   "cell_type": "code",
   "execution_count": 6,
   "metadata": {
    "collapsed": true
   },
   "outputs": [],
   "source": [
    "def space_to_batch_nd_v1(inputs, kernel_size, strides, name=None):\n",
    "    \"\"\" for convCapsNet model: memory 4719M, speed 0.169 sec/step\n",
    "    \"\"\"\n",
    "    name = \"space_to_batch_nd\" if name is None else name\n",
    "    with tf.name_scope(name):\n",
    "        height, width, depth = cl.shape(inputs)[1:4]\n",
    "        h_offsets = [[(h + k) for k in range(0, kernel_size[0])] for h in range(0, height + 1 - kernel_size[0], strides[0])]\n",
    "        w_offsets = [[(w + k) for k in range(0, kernel_size[1])] for w in range(0, width + 1 - kernel_size[1], strides[1])]\n",
    "        d_offsets = [[(d + k) for k in range(0, kernel_size[2])] for d in range(0, depth + 1 - kernel_size[2], strides[2])]\n",
    "        patched = tf.gather(inputs, h_offsets, axis=1)\n",
    "        patched = tf.gather(patched, w_offsets, axis=3)\n",
    "        patched = tf.gather(patched, d_offsets, axis=5)\n",
    "\n",
    "        if len(patched.shape) == 7:\n",
    "            perm = [0, 1, 3, 5, 2, 4, 6]\n",
    "        else:\n",
    "            perm = [0, 1, 3, 5, 2, 4, 6, 7, 8]\n",
    "\n",
    "        patched = tf.transpose(patched, perm=perm)\n",
    "        shape = cl.shape(patched)\n",
    "\n",
    "        if depth == kernel_size[2]:   # for conv2d\n",
    "            shape = shape[:3] + [np.prod(shape[3:-2])] + shape[-2:] if len(patched.shape) == 9 else shape[:3] + [np.prod(shape[3:])]\n",
    "        else:                         # for conv3d\n",
    "            shape = shape[:4] + [np.prod(shape[4:-2])] + shape[-2:] if len(patched.shape) == 9 else shape[:4] + [np.prod(shape[4:])]\n",
    "\n",
    "        patched = tf.reshape(patched, shape=shape)\n",
    "    return patched"
   ]
  },
  {
   "cell_type": "code",
   "execution_count": 8,
   "metadata": {
    "collapsed": true
   },
   "outputs": [],
   "source": [
    "def batch_to_space_nd(input, spatial_shape, name=None):\n",
    "    name = \"batch_to_space_nd\" if name is None else name\n",
    "    with tf.name_scope(name):\n",
    "        input_shape = cl.shape(input)\n",
    "        shape = [-1] + spatial_shape + input_shape[1:]\n",
    "        return tf.reshape(input, shape=shape)"
   ]
  },
  {
   "cell_type": "code",
   "execution_count": 9,
   "metadata": {
    "collapsed": true
   },
   "outputs": [],
   "source": [
    "sess = tf.Session()\n",
    "sess.run(tf.global_variables_initializer())\n",
    "inputs = model.primary_caps[0]\n",
    "kernel_size = [5,5,1]\n",
    "strides = [2,2,1]"
   ]
  },
  {
   "cell_type": "code",
   "execution_count": 10,
   "metadata": {},
   "outputs": [
    {
     "name": "stdout",
     "output_type": "stream",
     "text": [
      "Tensor(\"space_to_batch_nd/Reshape:0\", shape=(?, 124, 252, 16, 25, 8, 1), dtype=float32)\n"
     ]
    }
   ],
   "source": [
    "patched_1 = space_to_batch_nd_v1(inputs, kernel_size, strides)\n",
    "print(patched_1)"
   ]
  },
  {
   "cell_type": "code",
   "execution_count": null,
   "metadata": {},
   "outputs": [],
   "source": []
  },
  {
   "cell_type": "code",
   "execution_count": null,
   "metadata": {},
   "outputs": [],
   "source": [
    "inputs"
   ]
  },
  {
   "cell_type": "code",
   "execution_count": null,
   "metadata": {},
   "outputs": [],
   "source": [
    "reconstruction = batch_to_space_nd(batched, kernel_size)\n",
    "reconstruction"
   ]
  },
  {
   "cell_type": "code",
   "execution_count": null,
   "metadata": {},
   "outputs": [],
   "source": [
    "input_shape = cl.shape(batched)\n",
    "input_shape[1:]"
   ]
  },
  {
   "cell_type": "code",
   "execution_count": null,
   "metadata": {
    "collapsed": true
   },
   "outputs": [],
   "source": [
    "sess = tf.Session()\n",
    "sess.run(tf.global_variables_initializer())\n",
    "inputs = model.primary_caps[0]\n",
    "height, width, depth = cl.shape(inputs)[1:4]\n",
    "kernel_size = [5,5,1]\n",
    "strides = [2,2,1]"
   ]
  },
  {
   "cell_type": "code",
   "execution_count": null,
   "metadata": {
    "collapsed": true
   },
   "outputs": [],
   "source": [
    "h_offsets = [[(h + k) for k in range(0, kernel_size[0])] for h in range(0, height + 1 - kernel_size[0], strides[0])]\n",
    "w_offsets = [[(w + k) for k in range(0, kernel_size[1])] for w in range(0, width + 1 - kernel_size[1], strides[1])]\n",
    "d_offsets = [[(d + k) for k in range(0, kernel_size[2])] for d in range(0, depth + 1 - kernel_size[2], strides[2])]"
   ]
  },
  {
   "cell_type": "code",
   "execution_count": null,
   "metadata": {},
   "outputs": [],
   "source": [
    "patched = tf.gather(inputs, h_offsets, axis=1)\n",
    "patched"
   ]
  },
  {
   "cell_type": "code",
   "execution_count": null,
   "metadata": {},
   "outputs": [],
   "source": [
    "patched = tf.gather(patched, w_offsets, axis=3)\n",
    "patched"
   ]
  },
  {
   "cell_type": "code",
   "execution_count": null,
   "metadata": {},
   "outputs": [],
   "source": [
    "patched = tf.gather(patched, d_offsets, axis=5)\n",
    "patched"
   ]
  },
  {
   "cell_type": "code",
   "execution_count": null,
   "metadata": {},
   "outputs": [],
   "source": [
    "if len(patched.shape) == 7:\n",
    "    perm = [0, 1, 3, 5, 2, 4, 6]\n",
    "else:\n",
    "    perm = [0, 1, 3, 5, 2, 4, 6, 7, 8]\n",
    "patched = tf.transpose(patched, perm=perm)\n",
    "shape = cl.shape(patched)\n",
    "shape"
   ]
  },
  {
   "cell_type": "code",
   "execution_count": null,
   "metadata": {},
   "outputs": [],
   "source": [
    "shape[:3] + [np.prod(shape[3:])]"
   ]
  },
  {
   "cell_type": "code",
   "execution_count": null,
   "metadata": {},
   "outputs": [],
   "source": [
    "import numpy as np\n",
    "shape = shape[:3] + [np.prod(shape[3:-2])] + shape[-2:] if len(patched.shape) == 9 else shape[:3] + [np.prod(shape[3:])]\n",
    "shape"
   ]
  },
  {
   "cell_type": "code",
   "execution_count": null,
   "metadata": {},
   "outputs": [],
   "source": [
    "patched = tf.reshape(patched, shape=shape)\n",
    "patched"
   ]
  },
  {
   "cell_type": "code",
   "execution_count": null,
   "metadata": {},
   "outputs": [],
   "source": [
    "h_offsets"
   ]
  },
  {
   "cell_type": "code",
   "execution_count": null,
   "metadata": {
    "collapsed": true
   },
   "outputs": [],
   "source": [
    "import capslayer as cl\n",
    "import tensorflow as tf\n",
    "\n",
    "from capslayer.core import routing\n",
    "from capslayer.core import transforming\n",
    "\n",
    "\n",
    "def conv2d_transpose(inputs,\n",
    "                     activation,\n",
    "                     filters,\n",
    "                     out_caps_dims,\n",
    "                     kernel_size,\n",
    "                     strides,\n",
    "                     padding=\"valid\",\n",
    "                     routing_method=\"EMRouting\",\n",
    "                     name=None,\n",
    "                     reuse=None):\n",
    "    \"\"\"A 2D transposed convolutional (sometimes called deconvolutional) capsule layer.\n",
    "    Args:\n",
    "        inputs: A 6-D tensor with shape [batch_size, in_height, in_width, in_channels] + in_caps_dims.\n",
    "        activation: A 4-D tensor with shape [batch_size, in_height, in_width, in_channels].\n",
    "        filters: Integer, the dimensionality of the output space (i.e. the number of filters in the convolution).\n",
    "        out_caps_dims: A tuple/list of 2 integers, specifying the dimensions of output capsule, e.g. out_caps_dims=[4, 4] representing that each output capsule has shape [4, 4].\n",
    "        kernel_size:  An integer or tuple/list of 2 integers, specifying the height and width of the 2D convolution window. Can be a single integer to specify the same value for all spatial dimensions.\n",
    "        strides: An integer or tuple/list of 2 integers, specifying the strides of the convolution along the height and width. Can be a single integer to specify the same value for all spatial dimensions.\n",
    "        padding: One of \"valid\" or \"same\" (case-insensitive), now only support \"valid\".\n",
    "        routing_method: One of \"EMRouting\" or \"DynamicRouting\", the method of routing-by-agreement algorithm.\n",
    "        name: A string, the name of the layer.\n",
    "        reuse: Boolean, whether to reuse the weights of a previous layer by the same name.\n",
    "    Returns:\n",
    "        pose: A 6-D tensor with shape [batch_size, out_height, out_width, out_channesl] + out_caps_dims.\n",
    "        activation: A 4-D tensor with shape [batch_size, out_height, out_width, out_channels].\n",
    "    \"\"\"\n",
    "\n",
    "    name = \"conv2d\" if name is None else name\n",
    "    with tf.variable_scope(name) as scope:\n",
    "        if reuse:\n",
    "            scope.reuse_variables()\n",
    "\n",
    "        input_shape = cl.shape(inputs)\n",
    "        input_rank = len(input_shape)\n",
    "        activation_rank = len(activation.shape)\n",
    "        if not input_rank == 6:\n",
    "            raise ValueError('Inputs to `conv2d` should have rank 6. Received inputs rank:', str(input_rank))\n",
    "        if not activation_rank == 4:\n",
    "            raise ValueError('Activation to `conv2d` should have rank 4. Received activation rank:', str(activation_rank))\n",
    "\n",
    "        if isinstance(kernel_size, int):\n",
    "            kernel_size = [kernel_size, kernel_size, input_shape[3]]\n",
    "        elif isinstance(kernel_size, (list, tuple)) and len(kernel_size) == 2:\n",
    "            kernel_size = [kernel_size[0], kernel_size[1], input_shape[3]]\n",
    "        else:\n",
    "            raise ValueError('\"kernel_size\" should be an integer or tuple/list of 2 integers. Received:', str(kernel_size))\n",
    "\n",
    "        if isinstance(strides, int):\n",
    "            strides = [strides, strides, 1]\n",
    "        elif isinstance(strides, (list, tuple)) and len(strides) == 2:\n",
    "            strides = [strides[0], strides[1], 1]\n",
    "        else:\n",
    "            raise ValueError('\"strides\" should be an integer or tuple/list of 2 integers. Received:', str(kernel_size))\n",
    "\n",
    "        if not isinstance(out_caps_dims, (list, tuple)) or len(out_caps_dims) != 2:\n",
    "            raise ValueError('\"out_caps_dims\" should be a tuple/list of 2 integers. Received:', str(out_caps_dims))\n",
    "        elif isinstance(out_caps_dims, tuple):\n",
    "            out_caps_dims = list(out_caps_dims)\n",
    "\n",
    "        # 1. space to batch\n",
    "        # patching everything into [batch_size, out_height, out_width, in_channels] + in_caps_dims (batched)\n",
    "        # and [batch_size, out_height, out_width, in_channels] (activation).\n",
    "        batched = cl.space_to_batch_nd(inputs, kernel_size, strides)\n",
    "        activation = cl.space_to_batch_nd(activation, kernel_size, strides)\n",
    "\n",
    "        # 2. transforming\n",
    "        # transforming to [batch_size, out_height, out_width, in_channels, out_channels/filters] + out_caps_dims\n",
    "        vote = transforming(batched,\n",
    "                            num_outputs=filters,\n",
    "                            out_caps_dims=out_caps_dims)\n",
    "\n",
    "        # 3. routing\n",
    "        pose, activation = routing(vote, activation, method=routing_method)\n",
    "\n",
    "        return pose, activation"
   ]
  }
 ],
 "metadata": {
  "kernelspec": {
   "display_name": "Python 3",
   "language": "python",
   "name": "python3"
  },
  "language_info": {
   "codemirror_mode": {
    "name": "ipython",
    "version": 3
   },
   "file_extension": ".py",
   "mimetype": "text/x-python",
   "name": "python",
   "nbconvert_exporter": "python",
   "pygments_lexer": "ipython3",
   "version": "3.6.1"
  }
 },
 "nbformat": 4,
 "nbformat_minor": 2
}
