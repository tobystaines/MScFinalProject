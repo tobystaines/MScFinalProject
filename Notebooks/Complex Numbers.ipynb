{
 "cells": [
  {
   "cell_type": "code",
   "execution_count": 2,
   "metadata": {},
   "outputs": [],
   "source": [
    "#  Import a bunch of stuff\n",
    "import os,sys,inspect\n",
    "currentdir = os.path.dirname(os.path.abspath(inspect.getfile(inspect.currentframe())))\n",
    "parentdir = os.path.dirname(currentdir)\n",
    "sys.path.insert(0,parentdir)\n",
    "\n",
    "import numpy as np\n",
    "import matplotlib.pyplot as plt\n",
    "%matplotlib inline\n",
    "plt.rcParams['image.cmap'] = 'hot'\n",
    "import IPython.display as ipd\n",
    "\n",
    "import audio_functions as af\n",
    "import librosa"
   ]
  },
  {
   "cell_type": "code",
   "execution_count": 4,
   "metadata": {
    "collapsed": true
   },
   "outputs": [],
   "source": [
    "#  Set variables\n",
    "sample_rate=16384\n",
    "n_fft=1024\n",
    "fft_hop=256\n",
    "patch_window=256\n",
    "patch_hop=128\n",
    "n_parallel_readers=4\n",
    "normalise=True\n",
    "batch_size = 5\n",
    "shuffle=False\n",
    "n_shuffle = 1"
   ]
  },
  {
   "cell_type": "code",
   "execution_count": 7,
   "metadata": {},
   "outputs": [],
   "source": [
    "file = 'C:/Users/Toby/MSc_Project/Test_Audio/CHiME/test/Mixed/F01_423C020U_BUS.CH1.wav'\n",
    "audio, _ = librosa.core.load(file, sample_rate)\n",
    "spec = librosa.stft(audio, n_fft=n_fft, hop_length=fft_hop, window='hann')"
   ]
  },
  {
   "cell_type": "code",
   "execution_count": 14,
   "metadata": {},
   "outputs": [
    {
     "data": {
      "text/plain": [
       "array([[ 1.45267427e+00+0.0000000e+00j, -1.16603851e+00+0.0000000e+00j,\n",
       "         9.85696197e-01+0.0000000e+00j, ...,\n",
       "        -2.03425622e+00+0.0000000e+00j, -3.32232960e-03+0.0000000e+00j,\n",
       "         4.69818830e+00+0.0000000e+00j],\n",
       "       [ 1.61016583e-01-6.4076348e-17j, -9.48568404e-01-2.9067729e+00j,\n",
       "         3.28098726e+00+5.0606914e+00j, ...,\n",
       "         7.16433883e-01-1.5295295e+00j,  1.84128058e+00+3.4166613e+00j,\n",
       "        -3.90736628e+00+1.0949303e+00j],\n",
       "       [-2.61414599e+00+4.4464619e-16j,  5.35693264e+00+1.7712017e+00j,\n",
       "        -9.23166084e+00-5.7503791e+00j, ...,\n",
       "         2.46235180e+00+6.1668032e-01j, -4.56310987e+00-4.0323558e+00j,\n",
       "         2.48488522e+00+3.3750129e+00j],\n",
       "       ...,\n",
       "       [ 2.06015655e-03-5.5696387e-19j, -1.03033637e-03+1.7012691e-07j,\n",
       "        -5.36565210e-08-7.6625684e-09j, ...,\n",
       "         6.23185130e-08+2.1488844e-09j, -6.10388306e-05+4.6402616e-03j,\n",
       "         3.40081489e-04-2.7387060e-02j],\n",
       "       [-2.06057075e-03-8.8579317e-17j, -1.14939596e-07+1.0301974e-03j,\n",
       "         4.59185117e-08-1.0769608e-07j, ...,\n",
       "        -1.03605110e-07+1.3422408e-07j, -3.30237299e-03+3.2591911e-03j,\n",
       "         1.92422364e-02+1.9482136e-02j],\n",
       "       [ 2.05995585e-03+0.0000000e+00j,  1.02991518e-03+0.0000000e+00j,\n",
       "         4.99393877e-08+0.0000000e+00j, ...,\n",
       "         1.79895963e-07+0.0000000e+00j, -4.63951891e-03+0.0000000e+00j,\n",
       "        -2.73800995e-02+0.0000000e+00j]], dtype=complex64)"
      ]
     },
     "execution_count": 14,
     "metadata": {},
     "output_type": "execute_result"
    }
   ],
   "source": [
    "spec"
   ]
  },
  {
   "cell_type": "code",
   "execution_count": null,
   "metadata": {
    "collapsed": true
   },
   "outputs": [],
   "source": []
  }
 ],
 "metadata": {
  "kernelspec": {
   "display_name": "Python 3",
   "language": "python",
   "name": "python3"
  },
  "language_info": {
   "codemirror_mode": {
    "name": "ipython",
    "version": 3
   },
   "file_extension": ".py",
   "mimetype": "text/x-python",
   "name": "python",
   "nbconvert_exporter": "python",
   "pygments_lexer": "ipython3",
   "version": "3.6.1"
  }
 },
 "nbformat": 4,
 "nbformat_minor": 2
}
