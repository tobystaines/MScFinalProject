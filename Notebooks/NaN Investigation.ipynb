{
 "cells": [
  {
   "cell_type": "markdown",
   "metadata": {},
   "source": [
    "# Investigating NaN Outputs"
   ]
  },
  {
   "cell_type": "markdown",
   "metadata": {},
   "source": [
    "The Basic Capsnet model is supposed to act as a proof of concept audio capsule model, but training of these models has repeatedly resulted in the cost function returning nan after less than one epoch of training."
   ]
  },
  {
   "cell_type": "code",
   "execution_count": 30,
   "metadata": {},
   "outputs": [],
   "source": [
    "#  Import a bunch of stuff\n",
    "import os,sys,inspect\n",
    "currentdir = os.path.dirname(os.path.abspath(inspect.getfile(inspect.currentframe())))\n",
    "parentdir = os.path.dirname(currentdir)\n",
    "sys.path.insert(0,parentdir)\n",
    "\n",
    "import importlib\n",
    "import numpy as np\n",
    "import matplotlib.pyplot as plt\n",
    "%matplotlib inline\n",
    "plt.rcParams['image.cmap'] = 'hot'\n",
    "import IPython.display as ipd\n",
    "import tensorflow as tf\n",
    "import mir_eval\n",
    "from SegCaps import capsule_layers\n",
    "from keras import layers\n",
    "\n",
    "import audio_functions as af\n",
    "import model_functions as mf\n",
    "import audio_models\n",
    "import dataset"
   ]
  },
  {
   "cell_type": "code",
   "execution_count": 13,
   "metadata": {},
   "outputs": [
    {
     "data": {
      "text/plain": [
       "<module 'audio_models' from '/home/enterprise.internal.city.ac.uk/acvn728/MScFinalProject/audio_models.py'>"
      ]
     },
     "execution_count": 13,
     "metadata": {},
     "output_type": "execute_result"
    }
   ],
   "source": [
    "importlib.reload(audio_models)"
   ]
  },
  {
   "cell_type": "markdown",
   "metadata": {},
   "source": [
    "### Get the variables and data ready"
   ]
  },
  {
   "cell_type": "code",
   "execution_count": 98,
   "metadata": {},
   "outputs": [
    {
     "data": {
      "text/plain": [
       "<PrefetchDataset shapes: ((?, 128, 513, 2), (?, 128, 513, 2), (?, 32512, 1), (?, 32512, 1)), types: (tf.float32, tf.float32, tf.float32, tf.float32)>"
      ]
     },
     "execution_count": 98,
     "metadata": {},
     "output_type": "execute_result"
    }
   ],
   "source": [
    "#  Set variables\n",
    "sample_rate=8192\n",
    "n_fft=1024\n",
    "fft_hop=256\n",
    "patch_window=128\n",
    "patch_hop=64\n",
    "n_parallel_readers=4\n",
    "normalise=True\n",
    "batch_size = 5\n",
    "shuffle=False\n",
    "n_shuffle = 1\n",
    "mag_phase = True\n",
    "learning_rate = 0.0002\n",
    "\n",
    "#checkpoint = '52/52-10' #  Best U-net\n",
    "checkpoint = '88/88-1'\n",
    "model_base_dir = '/home/enterprise.internal.city.ac.uk/acvn728/checkpoints'\n",
    "\n",
    "#directory_a = 'C:/Users/Toby/MSc_Project/Test_Audio/CHiME/test/Mixed'\n",
    "#directory_b = 'C:/Users/Toby/MSc_Project/Test_Audio/CHiME/test/Voice'\n",
    "\n",
    "#directory_a = 'C:/Users/Toby/Speech_Data/LibriSpeechMini/Mixed/train-clean-100/19/198/'\n",
    "#directory_b = 'C:/Users/Toby/Speech_Data/LibriSpeechMini/Voice/train-clean-100/19/198/'\n",
    "\n",
    "directory_a = '/home/enterprise.internal.city.ac.uk/acvn728/LibriSpeechMini/Mixed/train-clean-100/19/198/'\n",
    "directory_b = '/home/enterprise.internal.city.ac.uk/acvn728/LibriSpeechMini/Voice/train-clean-100/19/198/'\n",
    "\n",
    "#directory_a = '/data/Speech_Data/LibriSpeech/Mixed/test-clean/1580/141083/'\n",
    "#directory_b = '/data/Speech_Data/LibriSpeech/Voice/test-clean/1580/141083/'\n",
    "\n",
    "\n",
    "#  Create the pipeline\n",
    "tf.reset_default_graph()\n",
    "data = dataset.zip_files(directory_a, directory_b)\n",
    "data = dataset.get_paired_dataset(data,\n",
    "                                  sample_rate,\n",
    "                                  n_fft,\n",
    "                                  fft_hop,\n",
    "                                  patch_window,\n",
    "                                  patch_hop,\n",
    "                                  n_parallel_readers,\n",
    "                                  batch_size,\n",
    "                                  n_shuffle,\n",
    "                                  normalise,\n",
    "                                  mag_phase)\n",
    "\n",
    "#  Create the iterator\n",
    "pipeline = data.make_initializable_iterator()\n",
    "mixed_spec, voice_spec, mixed_audio, voice_audio = pipeline.get_next()\n",
    "\n",
    "#  Create variable placeholders\n",
    "is_training = tf.placeholder(shape=(), dtype=bool)\n",
    "mixed_mag = tf.expand_dims(mixed_spec[:, :, :-1, 0], 3)\n",
    "mixed_phase = tf.expand_dims(mixed_spec[:, :, :-1, 1], 3)\n",
    "voice_mag = tf.expand_dims(voice_spec[:, :, :-1, 0], 3)\n",
    "\n",
    "data"
   ]
  },
  {
   "cell_type": "markdown",
   "metadata": {},
   "source": [
    "### Define the model structure"
   ]
  },
  {
   "cell_type": "code",
   "execution_count": 3,
   "metadata": {},
   "outputs": [
    {
     "name": "stdout",
     "output_type": "stream",
     "text": [
      "Creating model\n"
     ]
    }
   ],
   "source": [
    "# Build U-Net model\n",
    "print('Creating model')\n",
    "model = audio_models.MagnitudeModel(mixed_mag, voice_mag, mixed_phase, mixed_audio, \n",
    "                                    voice_audio, 'basic_capsnet', is_training, learning_rate, name='U_Net_Model')\n",
    "sess = tf.Session()\n",
    "sess.run(tf.global_variables_initializer())"
   ]
  },
  {
   "cell_type": "markdown",
   "metadata": {},
   "source": [
    "### Load the saved weights - Skip this cell to hear results from a randomly initialised network"
   ]
  },
  {
   "cell_type": "code",
   "execution_count": 4,
   "metadata": {},
   "outputs": [
    {
     "name": "stdout",
     "output_type": "stream",
     "text": [
      "Loading checkpoint\n",
      "INFO:tensorflow:Restoring parameters from /home/enterprise.internal.city.ac.uk/acvn728/checkpoints/88/88-1\n"
     ]
    }
   ],
   "source": [
    "\n",
    "print('Loading checkpoint')\n",
    "checkpoint_path = os.path.join(model_base_dir, checkpoint)\n",
    "restorer = tf.train.Saver()\n",
    "restorer.restore(sess, checkpoint_path)"
   ]
  },
  {
   "cell_type": "markdown",
   "metadata": {},
   "source": [
    "### Run a batch"
   ]
  },
  {
   "cell_type": "code",
   "execution_count": 5,
   "metadata": {
    "collapsed": true
   },
   "outputs": [],
   "source": [
    "mix_mag, mix_phase, voice_mag, voice_est_mag, mask, voice_wave, mix_wave = sess.run([model.mixed_mag, \n",
    "                                                                                     model.mixed_phase, \n",
    "                                                                                     model.voice_mag,\n",
    "                                                                                     model.gen_voice, \n",
    "                                                                                     model.voice_mask, \n",
    "                                                                                     model.voice_audio, \n",
    "                                                                                     model.mixed_audio],\n",
    "                                                                                    {model.is_training:False})\n",
    "voice_est_wave = list()\n",
    "\n",
    "for i in range(voice_mag.shape[0]):\n",
    "    voice_est_wave.append(af.spectrogramToAudioFile(np.squeeze(voice_est_mag[i, :, :, :]).T, n_fft,\n",
    "                                                    fft_hop, phaseIterations=0, phase=np.squeeze(mix_phase[i, :, :, :]).T))\n"
   ]
  },
  {
   "cell_type": "code",
   "execution_count": 9,
   "metadata": {},
   "outputs": [
    {
     "data": {
      "text/plain": [
       "[<tf.Variable 'U_Net_Model/SegCaps_CapsNetBasic/Convolution/conv2d/kernel:0' shape=(5, 5, 1, 128) dtype=float32_ref>,\n",
       " <tf.Variable 'U_Net_Model/SegCaps_CapsNetBasic/Convolution/conv2d/bias:0' shape=(128,) dtype=float32_ref>,\n",
       " <tf.Variable 'U_Net_Model/SegCaps_CapsNetBasic/Primary_Caps/primarycaps/W:0' shape=(5, 5, 128, 64) dtype=float32_ref>,\n",
       " <tf.Variable 'U_Net_Model/SegCaps_CapsNetBasic/Primary_Caps/primarycaps/b:0' shape=(1, 1, 8, 8) dtype=float32_ref>,\n",
       " <tf.Variable 'U_Net_Model/SegCaps_CapsNetBasic/Seg_Caps/seg_caps/W:0' shape=(1, 1, 8, 8) dtype=float32_ref>,\n",
       " <tf.Variable 'U_Net_Model/SegCaps_CapsNetBasic/Seg_Caps/seg_caps/b:0' shape=(1, 1, 1, 8) dtype=float32_ref>,\n",
       " <tf.Variable 'U_Net_Model/SegCaps_CapsNetBasic/Reconstruction/reconstruction/W:0' shape=(1, 1, 8, 1) dtype=float32_ref>,\n",
       " <tf.Variable 'U_Net_Model/SegCaps_CapsNetBasic/Reconstruction/reconstruction/b:0' shape=(1, 1, 1, 1) dtype=float32_ref>]"
      ]
     },
     "execution_count": 9,
     "metadata": {},
     "output_type": "execute_result"
    }
   ],
   "source": [
    "tf.trainable_variables()"
   ]
  },
  {
   "cell_type": "code",
   "execution_count": 49,
   "metadata": {
    "collapsed": true
   },
   "outputs": [],
   "source": [
    "class MagnitudeModel(object):\n",
    "    \"\"\"\n",
    "    Top level U-Net object.\n",
    "    Attributes:\n",
    "        mixed_mag: Input placeholder for magnitude spectrogram of mixed signals (voice plus background noise) - X\n",
    "        voice_mag: Input placeholder for magnitude spectrogram of isolated voice signal - Y\n",
    "        mixed_phase: Input placeholder for phase spectrogram of mixed signals (voice plus background noise)\n",
    "        mixed_audio: Input placeholder for waveform audio of mixed signals (voice plus background noise)\n",
    "        voice_audio: Input placeholder for waveform audio of isolated voice signal\n",
    "        variant: The type of U-Net model (Normal convolutional or capsule based)\n",
    "        is_training: Boolean - should the model be trained on the current input or not\n",
    "        name: Model instance name\n",
    "    \"\"\"\n",
    "    def __init__(self, mixed_mag, voice_mag, mixed_phase, mixed_audio, voice_audio, variant, is_training, learning_rate,\n",
    "                 name):\n",
    "        with tf.variable_scope(name):\n",
    "            self.mixed_mag = mixed_mag\n",
    "            self.voice_mag = voice_mag\n",
    "            self.mixed_phase = mixed_phase\n",
    "            self.mixed_audio = mixed_audio\n",
    "            self.voice_audio = voice_audio\n",
    "            self.variant = variant\n",
    "            self.is_training = is_training\n",
    "\n",
    "            if self.variant in ['unet', 'capsunet']:\n",
    "                self.voice_mask_network = UNet(mixed_mag, variant, is_training=is_training, reuse=False, name='voice-mask-unet')\n",
    "            elif self.variant == 'basic_capsnet':\n",
    "                self.voice_mask_network = BasicCapsnet(mixed_mag, name='CapsNetBasic')\n",
    "\n",
    "            self.voice_mask = self.voice_mask_network.output\n",
    "\n",
    "            self.gen_voice = self.voice_mask * mixed_mag\n",
    "\n",
    "            self.cost = mf.l1_loss(self.gen_voice, voice_mag)\n",
    "\n",
    "            self.optimizer = tf.train.AdamOptimizer(\n",
    "                learning_rate=learning_rate,\n",
    "                beta1=0.5,\n",
    "            )\n",
    "            self.train_op = self.optimizer.minimize(self.cost)\n",
    "\n",
    "class BasicCapsnet(object):\n",
    "\n",
    "    def __init__(self, mixed_mag, name):\n",
    "        \"\"\"\n",
    "        input_tensor: Tensor with shape [batch_size, height, width, channels]\n",
    "        is_training:  Boolean - should the model be trained on the current input or not\n",
    "        name:         Model instance name\n",
    "        \"\"\"\n",
    "        with tf.variable_scope(name):\n",
    "            self.mixed_mag = mixed_mag\n",
    "\n",
    "            net = mf.conv(mixed_mag, filters=128, kernel_size=5, stride=(1, 1))\n",
    "\n",
    "            # Reshape layer to be 1 capsule x [filters] atoms\n",
    "            _, H, W, C = net.get_shape()\n",
    "            net = layers.Reshape((H.value, W.value, 1, C.value))(net)\n",
    "            self.conv1 = net\n",
    "            \n",
    "            net = capsule_layers.ConvCapsuleLayer(kernel_size=5, num_capsule=8, num_atoms=8, strides=1,\n",
    "                                                  padding='same',\n",
    "                                                  routings=1, name='primarycaps')(net)\n",
    "            self.primary_caps = net\n",
    "\n",
    "            net = capsule_layers.ConvCapsuleLayer(kernel_size=1, num_capsule=1, num_atoms=8, strides=1,\n",
    "                                                  padding='same',\n",
    "                                                  routings=3, name='seg_caps')(net)\n",
    "            self.seg_caps = net\n",
    "            \n",
    "            net = capsule_layers.ConvCapsuleLayer(kernel_size=1, num_capsule=1, num_atoms=1, strides=1,\n",
    "                                                  padding='same',\n",
    "                                                  routings=3, name='reconstruction')(net)\n",
    "            net = tf.squeeze(net, -1)\n",
    "\n",
    "            self.output = net"
   ]
  },
  {
   "cell_type": "code",
   "execution_count": 99,
   "metadata": {},
   "outputs": [],
   "source": [
    "\n",
    "model = MagnitudeModel(mixed_mag, voice_mag, mixed_phase, mixed_audio, \n",
    "                       voice_audio, 'basic_capsnet', is_training, learning_rate, name='U_Net_Model')\n",
    "sess = tf.Session()\n",
    "sess.run(tf.global_variables_initializer())"
   ]
  },
  {
   "cell_type": "code",
   "execution_count": 51,
   "metadata": {},
   "outputs": [
    {
     "data": {
      "text/plain": [
       "[<tf.Variable 'U_Net_Model/SegCaps_CapsNetBasic/conv2d/kernel:0' shape=(5, 5, 1, 128) dtype=float32_ref>,\n",
       " <tf.Variable 'U_Net_Model/SegCaps_CapsNetBasic/conv2d/bias:0' shape=(128,) dtype=float32_ref>,\n",
       " <tf.Variable 'U_Net_Model/SegCaps_CapsNetBasic/primarycaps/W:0' shape=(5, 5, 128, 64) dtype=float32_ref>,\n",
       " <tf.Variable 'U_Net_Model/SegCaps_CapsNetBasic/primarycaps/b:0' shape=(1, 1, 8, 8) dtype=float32_ref>,\n",
       " <tf.Variable 'U_Net_Model/SegCaps_CapsNetBasic/seg_caps/W:0' shape=(1, 1, 8, 8) dtype=float32_ref>,\n",
       " <tf.Variable 'U_Net_Model/SegCaps_CapsNetBasic/seg_caps/b:0' shape=(1, 1, 1, 8) dtype=float32_ref>,\n",
       " <tf.Variable 'U_Net_Model/SegCaps_CapsNetBasic/reconstruction/W:0' shape=(1, 1, 8, 1) dtype=float32_ref>,\n",
       " <tf.Variable 'U_Net_Model/SegCaps_CapsNetBasic/reconstruction/b:0' shape=(1, 1, 1, 1) dtype=float32_ref>]"
      ]
     },
     "execution_count": 51,
     "metadata": {},
     "output_type": "execute_result"
    }
   ],
   "source": [
    "tf.trainable_variables()"
   ]
  },
  {
   "cell_type": "code",
   "execution_count": null,
   "metadata": {
    "collapsed": true
   },
   "outputs": [],
   "source": [
    "cost = 0\n",
    "i = 0\n",
    "sess.run(pipeline.initializer)\n",
    "weights = []\n",
    "biases = []\n",
    "while i < 200 and not np.isnan(cost):\n",
    "    try:\n",
    "        _, cost, conv_w, conv_b, prim_w, prim_b, \\\n",
    "        seg_w, seg_b, reco_w, reco_b = sess.run([model.train_op, model.cost,\n",
    "                                                 'U_Net_Model/SegCaps_CapsNetBasic/conv2d/kernel:0',\n",
    "                                                 'U_Net_Model/SegCaps_CapsNetBasic/conv2d/bias:0',\n",
    "                                                 'U_Net_Model/SegCaps_CapsNetBasic/primarycaps/W:0',\n",
    "                                                 'U_Net_Model/SegCaps_CapsNetBasic/primarycaps/b:0',\n",
    "                                                 'U_Net_Model/SegCaps_CapsNetBasic/seg_caps/W:0',\n",
    "                                                 'U_Net_Model/SegCaps_CapsNetBasic/seg_caps/b:0',\n",
    "                                                 'U_Net_Model/SegCaps_CapsNetBasic/reconstruction/W:0',\n",
    "                                                 'U_Net_Model/SegCaps_CapsNetBasic/reconstruction/b:0'])\n",
    "        print('Iteration {i}: cost = {c}'.format(i=i, c=cost))\n",
    "        #print('\\t', conv_w.mean(), prim_w.mean(), seg_w.mean(), reco_w.mean(),'\\n\\t',\n",
    "        #      conv_b.mean(), prim_b.mean(), seg_b.mean(), reco_b.mean())\n",
    "        weights.extend([conv_w.mean(), prim_w.mean(), seg_w.mean(), reco_w.mean()])\n",
    "        biases.extend([conv_b.mean(), prim_b.mean(), seg_b.mean(), reco_b.mean()])\n",
    "        i += 1\n",
    "    except tf.errors.OutOfRangeError:\n",
    "        print('Epoch complete')\n",
    "        sess.run(pipeline.initializer)"
   ]
  },
  {
   "cell_type": "code",
   "execution_count": 102,
   "metadata": {},
   "outputs": [],
   "source": [
    "d2 = int(len(weights)/4)\n",
    "weights = np.array(weights).reshape((d2,4))\n",
    "biases = np.array(biases).reshape((d2,4))"
   ]
  },
  {
   "cell_type": "code",
   "execution_count": 104,
   "metadata": {},
   "outputs": [
    {
     "data": {
      "image/png": "[encoded data removed]",
      "text/plain": [
       "<Figure size 432x288 with 1 Axes>"
      ]
     },
     "metadata": {},
     "output_type": "display_data"
    }
   ],
   "source": [
    "x = range(weights.shape[0])\n",
    "for i in range(4):\n",
    "    plt.plot(x, weights[:,i])"
   ]
  },
  {
   "cell_type": "code",
   "execution_count": 64,
   "metadata": {},
   "outputs": [],
   "source": [
    "inp, conv, prim, seg = sess.run([model.voice_mask_network.mixed_mag, model.voice_mask_network.conv1, model.voice_mask_network.primary_caps, model.voice_mask_network.seg_caps])"
   ]
  },
  {
   "cell_type": "code",
   "execution_count": 80,
   "metadata": {},
   "outputs": [
    {
     "data": {
      "text/plain": [
       "[<tf.Variable 'U_Net_Model/SegCaps_CapsNetBasic/conv2d/kernel:0' shape=(5, 5, 1, 128) dtype=float32_ref>,\n",
       " <tf.Variable 'U_Net_Model/SegCaps_CapsNetBasic/conv2d/bias:0' shape=(128,) dtype=float32_ref>,\n",
       " <tf.Variable 'U_Net_Model/SegCaps_CapsNetBasic/primarycaps/W:0' shape=(5, 5, 128, 64) dtype=float32_ref>,\n",
       " <tf.Variable 'U_Net_Model/SegCaps_CapsNetBasic/primarycaps/b:0' shape=(1, 1, 8, 8) dtype=float32_ref>,\n",
       " <tf.Variable 'U_Net_Model/SegCaps_CapsNetBasic/seg_caps/W:0' shape=(1, 1, 8, 8) dtype=float32_ref>,\n",
       " <tf.Variable 'U_Net_Model/SegCaps_CapsNetBasic/seg_caps/b:0' shape=(1, 1, 1, 8) dtype=float32_ref>,\n",
       " <tf.Variable 'U_Net_Model/SegCaps_CapsNetBasic/reconstruction/W:0' shape=(1, 1, 8, 1) dtype=float32_ref>,\n",
       " <tf.Variable 'U_Net_Model/SegCaps_CapsNetBasic/reconstruction/b:0' shape=(1, 1, 1, 1) dtype=float32_ref>]"
      ]
     },
     "execution_count": 80,
     "metadata": {},
     "output_type": "execute_result"
    }
   ],
   "source": [
    "tf.trainable_variables()"
   ]
  },
  {
   "cell_type": "code",
   "execution_count": 88,
   "metadata": {},
   "outputs": [
    {
     "data": {
      "text/plain": [
       "array([[[[nan, nan, nan, nan, nan, nan, nan, nan],\n",
       "         [nan, nan, nan, nan, nan, nan, nan, nan],\n",
       "         [nan, nan, nan, nan, nan, nan, nan, nan],\n",
       "         [nan, nan, nan, nan, nan, nan, nan, nan],\n",
       "         [nan, nan, nan, nan, nan, nan, nan, nan],\n",
       "         [nan, nan, nan, nan, nan, nan, nan, nan],\n",
       "         [nan, nan, nan, nan, nan, nan, nan, nan],\n",
       "         [nan, nan, nan, nan, nan, nan, nan, nan]]]], dtype=float32)"
      ]
     },
     "execution_count": 88,
     "metadata": {},
     "output_type": "execute_result"
    }
   ],
   "source": [
    "sess.run('U_Net_Model/SegCaps_CapsNetBasic/seg_caps/W:0')"
   ]
  },
  {
   "cell_type": "code",
   "execution_count": null,
   "metadata": {
    "collapsed": true
   },
   "outputs": [],
   "source": []
  }
 ],
 "metadata": {
  "kernelspec": {
   "display_name": "Python 3",
   "language": "python",
   "name": "python3"
  },
  "language_info": {
   "codemirror_mode": {
    "name": "ipython",
    "version": 3
   },
   "file_extension": ".py",
   "mimetype": "text/x-python",
   "name": "python",
   "nbconvert_exporter": "python",
   "pygments_lexer": "ipython3",
   "version": "3.5.2"
  }
 },
 "nbformat": 4,
 "nbformat_minor": 2
}
