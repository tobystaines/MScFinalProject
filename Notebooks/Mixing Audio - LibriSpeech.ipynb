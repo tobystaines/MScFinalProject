{
 "cells": [
  {
   "cell_type": "markdown",
   "metadata": {},
   "source": [
    "## Mixing Audio - LibriSpeech\n",
    "This file was used to mix the LibriSpeech corpus with background noise to create a pared dataset."
   ]
  },
  {
   "cell_type": "code",
   "execution_count": 2,
   "metadata": {
    "collapsed": true
   },
   "outputs": [],
   "source": [
    "import os,sys,inspect\n",
    "currentdir = os.path.dirname(os.path.abspath(inspect.getfile(inspect.currentframe())))\n",
    "parentdir = os.path.dirname(currentdir)\n",
    "sys.path.insert(0,parentdir)\n",
    "\n",
    "import numpy as np\n",
    "import soundfile as sf\n",
    "import librosa\n",
    "import IPython.display as ipd\n",
    "from sklearn.preprocessing import minmax_scale\n",
    "from glob import glob"
   ]
  },
  {
   "cell_type": "code",
   "execution_count": 13,
   "metadata": {
    "collapsed": true
   },
   "outputs": [],
   "source": [
    "def mix_audio(voice_file, background_file):\n",
    "    \"\"\"\n",
    "    Takes the location of two audio files (a voice file and a background noise file), \n",
    "    loads them, and mixes them with a 60:40 ratio. The first file must be shorter \n",
    "    than the second.\n",
    "\n",
    "    Args:\n",
    "    voice_file: String - The location of the first file.\n",
    "    background_file: String - The location of the second file.\n",
    "\n",
    "    Output:\n",
    "    norm_mix: 1D array - Normalised 60:40 mixture of voice and background_segment.\n",
    "    voice_sr: Int - The sample rate of the voice file (which the returned background noise also matches).\n",
    "    background_segment: 1D array - A background noise segment with len = len(voice).\n",
    "    voice: 1D array - the voice audio.\n",
    "    \"\"\"    \n",
    "    # Load the files\n",
    "    voice, voice_sr = sf.read(voice_file)\n",
    "    background, background_sr = sf.read(background_file)\n",
    "\n",
    "    if voice_sr != background_sr:\n",
    "        librosa.resample(background, voice_sr)\n",
    "\n",
    "    # Select a segment of the background track to use\n",
    "    start_point = np.random.randint(len(background) - len(voice))\n",
    "    background_segment = background[start_point:start_point+len(voice)]\n",
    "\n",
    "    # Normalise both sources and mix\n",
    "    norm_voice = minmax_scale(voice, (-1,1))\n",
    "    norm_bgs = minmax_scale(background_segment,(-1,1))\n",
    "    norm_mix = (0.6*norm_voice) + (0.4*norm_bgs)\n",
    "    \n",
    "    return norm_mix, voice_sr, background_segment, voice"
   ]
  },
  {
   "cell_type": "code",
   "execution_count": 12,
   "metadata": {
    "collapsed": true
   },
   "outputs": [],
   "source": [
    "# Copy the file structure\n",
    "\n",
    "inputpath = 'C:/Users/Toby/Speech_Data/BG_test/Voice/'\n",
    "outputpath = 'C:/Users/Toby/Speech_Data/BG_test/Background/'\n",
    "\n",
    "for dirpath, dirnames, filenames in os.walk(inputpath):\n",
    "    structure = os.path.join(outputpath, dirpath[len(inputpath):])\n",
    "    if not os.path.isdir(structure):\n",
    "        os.mkdir(structure)\n",
    "    else:\n",
    "        print(\"Folder does already exits!\")"
   ]
  },
  {
   "cell_type": "code",
   "execution_count": 16,
   "metadata": {
    "collapsed": true,
    "scrolled": true
   },
   "outputs": [],
   "source": [
    "background_file_list = glob('C:/Users/Toby/Speech_Data/CHiME3/data/audio/16kHz/backgrounds/*.wav')\n",
    "directory = 'C:/Users/Toby/Speech_Data/BG_test/Voice/'\n",
    "file_list = glob(directory+'/**/*.flac', recursive=True)\n",
    "count = 0\n",
    "\n",
    "# Loop over files\n",
    "for file in file_list:\n",
    "    # Work out the name and destination for the new file\n",
    "    split_path = file.split('Voice')\n",
    "    new_mix_file_path = split_path[0] + 'Mixed' + split_path[1]\n",
    "    new_bg_file_path = split_path[0] + 'Background' + split_path[1]\n",
    "    # Check if file already exists\n",
    "    if os.path.isfile(new_mix_file_path):\n",
    "        print('File already exists!')\n",
    "        count += 1\n",
    "        continue\n",
    "    # Select a background file\n",
    "    background_file = background_file_list[np.random.randint(len(background_file_list))]\n",
    "    # Mix them\n",
    "    mixture, sample_rate, background_noise, _ = mix_audio(file, background_file)\n",
    "    # Save to file\n",
    "    sf.write(new_mix_file_path, mixture, sample_rate)\n",
    "    sf.write(new_bg_file_path, background_noise, sample_rate)\n",
    "    count += 1\n",
    "    if count % 1000 == 0:\n",
    "        print('{c} files processed.'.format(c=count))\n"
   ]
  }
 ],
 "metadata": {
  "kernelspec": {
   "display_name": "Python 3",
   "language": "python",
   "name": "python3"
  },
  "language_info": {
   "codemirror_mode": {
    "name": "ipython",
    "version": 3
   },
   "file_extension": ".py",
   "mimetype": "text/x-python",
   "name": "python",
   "nbconvert_exporter": "python",
   "pygments_lexer": "ipython3",
   "version": "3.5.2"
  }
 },
 "nbformat": 4,
 "nbformat_minor": 2
}
