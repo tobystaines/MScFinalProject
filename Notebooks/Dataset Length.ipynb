{
 "cells": [
  {
   "cell_type": "code",
   "execution_count": 25,
   "metadata": {},
   "outputs": [],
   "source": [
    "import os,sys,inspect\n",
    "currentdir = os.path.dirname(os.path.abspath(inspect.getfile(inspect.currentframe())))\n",
    "parentdir = os.path.dirname(currentdir)\n",
    "sys.path.insert(0,parentdir)\n",
    "\n",
    "import tensorflow as tf\n",
    "import numpy as np\n",
    "\n",
    "import Audio_functions as af\n",
    "from functools import partial\n",
    "import datetime"
   ]
  },
  {
   "cell_type": "code",
   "execution_count": 53,
   "metadata": {
    "collapsed": true
   },
   "outputs": [],
   "source": [
    "#data_folder = 'C:/Users/Toby/CHiME3/data/audio/16kHz/isolated/et05_bth'\n",
    "data_folder = 'C:/Users/Toby/EUSTACE'\n",
    "sample_rate = 16384\n",
    "n_parallel_readers = 4\n",
    "n_channels = 1"
   ]
  },
  {
   "cell_type": "code",
   "execution_count": 54,
   "metadata": {},
   "outputs": [],
   "source": [
    "data_pipe = tf.data.Dataset.list_files(data_folder + '/*.wav').map(partial(af.read_audio,\n",
    "                                                                           sample_rate=sample_rate,\n",
    "                                                                           n_channels=n_channels), \n",
    "                                                                   num_parallel_calls=n_parallel_readers)"
   ]
  },
  {
   "cell_type": "code",
   "execution_count": 55,
   "metadata": {},
   "outputs": [],
   "source": [
    "sess = tf.Session()\n",
    "next_file = data_pipe.make_one_shot_iterator().get_next()"
   ]
  },
  {
   "cell_type": "code",
   "execution_count": 56,
   "metadata": {},
   "outputs": [
    {
     "name": "stdout",
     "output_type": "stream",
     "text": [
      "10 files processed\n",
      "20 files processed\n",
      "30 files processed\n",
      "40 files processed\n",
      "50 files processed\n",
      "60 files processed\n",
      "70 files processed\n",
      "80 files processed\n",
      "90 files processed\n",
      "100 files processed\n",
      "110 files processed\n",
      "120 files processed\n",
      "130 files processed\n",
      "140 files processed\n",
      "150 files processed\n",
      "160 files processed\n",
      "170 files processed\n",
      "180 files processed\n",
      "190 files processed\n",
      "200 files processed\n",
      "210 files processed\n",
      "220 files processed\n",
      "230 files processed\n",
      "240 files processed\n",
      "250 files processed\n",
      "260 files processed\n",
      "270 files processed\n",
      "280 files processed\n",
      "290 files processed\n",
      "300 files processed\n",
      "310 files processed\n",
      "320 files processed\n",
      "330 files processed\n",
      "340 files processed\n",
      "350 files processed\n",
      "360 files processed\n",
      "370 files processed\n",
      "380 files processed\n",
      "Files in folder: 384\n",
      "Total length of audio in folder = 16964.29s (4:42:44.286133 hours)\n",
      "Maximum file length = 97.29s\n",
      "Minimum file length = 20.4s\n",
      "Mean file length = 44.18s\n"
     ]
    }
   ],
   "source": [
    "length = 0\n",
    "file_count = 0\n",
    "max_file_length = 0\n",
    "min_file_length = 100000\n",
    "\n",
    "while True:\n",
    "    try:\n",
    "        file = sess.run(next_file)\n",
    "        len_file = len(file) / sample_rate\n",
    "        length += len_file\n",
    "        if len_file > max_file_length:\n",
    "            max_file_length = len_file\n",
    "        if len_file < min_file_length:\n",
    "            min_file_length = len_file\n",
    "        file_count += 1\n",
    "        if file_count % 10 == 0:\n",
    "            print('{fc} files processed'.format(fc=file_count))\n",
    "    except tf.errors.OutOfRangeError:\n",
    "        mean_file_length = length / file_count\n",
    "        print('Files in folder: {fc}'.format(fc=file_count))\n",
    "        print('Total length of audio in folder = {l}s ({lh} hours)'.format(l=round(length, 2), \n",
    "                                                                           lh=str(datetime.timedelta(seconds=length))))\n",
    "        print('Maximum file length = {maxfl}s'.format(maxfl=round(max_file_length, 2)))\n",
    "        print('Minimum file length = {minfl}s'.format(minfl=round(min_file_length, 2)))\n",
    "        print('Mean file length = {meanfl}s'.format(meanfl=round(mean_file_length, 2)))\n",
    "        break"
   ]
  },
  {
   "cell_type": "code",
   "execution_count": 28,
   "metadata": {},
   "outputs": [
    {
     "name": "stdout",
     "output_type": "stream",
     "text": [
      "Files in folder: 7138\n",
      "Total length of audio in folder = 54529.84s (15:08:49.844727 hours)\n",
      "Maximum file length = 20.39s\n",
      "Minimum file length = 1.3s\n",
      "Mean file length = 7.64s\n"
     ]
    }
   ],
   "source": [
    "print('Files in folder: {fc}'.format(fc=file_count))\n",
    "print('Total length of audio in folder = {l}s ({lh} hours)'.format(l=round(length, 2), \n",
    "                                                                   lh=str(datetime.timedelta(seconds=length))))\n",
    "print('Maximum file length = {maxfl}s'.format(maxfl=round(max_file_length, 2)))\n",
    "print('Minimum file length = {minfl}s'.format(minfl=round(min_file_length, 2)))\n",
    "print('Mean file length = {meanfl}s'.format(meanfl=round(mean_file_length, 2)))"
   ]
  },
  {
   "cell_type": "code",
   "execution_count": null,
   "metadata": {
    "collapsed": true
   },
   "outputs": [],
   "source": []
  }
 ],
 "metadata": {
  "kernelspec": {
   "display_name": "Python 3",
   "language": "python",
   "name": "python3"
  },
  "language_info": {
   "codemirror_mode": {
    "name": "ipython",
    "version": 3
   },
   "file_extension": ".py",
   "mimetype": "text/x-python",
   "name": "python",
   "nbconvert_exporter": "python",
   "pygments_lexer": "ipython3",
   "version": "3.6.1"
  }
 },
 "nbformat": 4,
 "nbformat_minor": 2
}
