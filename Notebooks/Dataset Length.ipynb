{
 "cells": [
  {
   "cell_type": "markdown",
   "metadata": {},
   "source": [
    "This file reads all of the audio files in a given directory and returns their number and total, mean, max and min length (in seconds). "
   ]
  },
  {
   "cell_type": "code",
   "execution_count": null,
   "metadata": {},
   "outputs": [],
   "source": [
    "#Imports\n",
    "import os,sys,inspect\n",
    "currentdir = os.path.dirname(os.path.abspath(inspect.getfile(inspect.currentframe())))\n",
    "parentdir = os.path.dirname(currentdir)\n",
    "sys.path.insert(0,parentdir)\n",
    "\n",
    "import tensorflow as tf\n",
    "import numpy as np\n",
    "\n",
    "import Audio_functions as af\n",
    "from functools import partial\n",
    "import datetime\n",
    "\n",
    "import librosa\n",
    "import soundfile as sf\n",
    "import IPython.display as ipd"
   ]
  },
  {
   "cell_type": "code",
   "execution_count": null,
   "metadata": {
    "collapsed": true
   },
   "outputs": [],
   "source": [
    "# Set some variables\n",
    "data_folder = 'C:/Users/Toby/Speech_Data/CHiME3/data/audio/16kHz/backgrounds'\n",
    "#data_folder = 'C:/Users/Toby/Speech_Data/LibriSpeech/train-other-500'\n",
    "sample_rate = 16384\n",
    "n_parallel_readers = 4\n",
    "n_channels = 1"
   ]
  },
  {
   "cell_type": "code",
   "execution_count": null,
   "metadata": {
    "collapsed": true
   },
   "outputs": [],
   "source": [
    "# Create a data ipeline\n",
    "data_pipe = tf.data.Dataset.list_files(data_folder + '/*.wav').map(partial(af.read_audio,\n",
    "                                                                            sample_rate=sample_rate,\n",
    "                                                                            n_channels=n_channels), \n",
    "                                                                    num_parallel_calls=n_parallel_readers)"
   ]
  },
  {
   "cell_type": "code",
   "execution_count": null,
   "metadata": {
    "collapsed": true
   },
   "outputs": [],
   "source": [
    "sess = tf.Session()\n",
    "next_file = data_pipe.make_one_shot_iterator().get_next()"
   ]
  },
  {
   "cell_type": "code",
   "execution_count": null,
   "metadata": {},
   "outputs": [],
   "source": [
    "length = 0\n",
    "file_count = 0\n",
    "max_file_length = 0\n",
    "min_file_length = 100000\n",
    "\n",
    "while True:\n",
    "    try:\n",
    "        # Load the next file\n",
    "        file = sess.run(next_file)\n",
    "        # Get its length and add it to the total\n",
    "        len_file = len(file) / sample_rate\n",
    "        length += len_file\n",
    "        # Check if this is the longest or shortest file encountered so far. If so, update records.\n",
    "        if len_file > max_file_length:\n",
    "            max_file_length = len_file\n",
    "        if len_file < min_file_length:\n",
    "            min_file_length = len_file\n",
    "        file_count += 1\n",
    "        if file_count % 10 == 0:\n",
    "            print('{fc} files processed'.format(fc=file_count))\n",
    "    except tf.errors.OutOfRangeError:\n",
    "        # When the dataset is exhausted, return the results.\n",
    "        mean_file_length = length / file_count\n",
    "        print('Files in folder: {fc}'.format(fc=file_count))\n",
    "        print('Total length of audio in folder = {l}s ({lh} hours)'.format(l=round(length, 2), \n",
    "                                                                           lh=str(datetime.timedelta(seconds=length))))\n",
    "        print('Maximum file length = {maxfl}s'.format(maxfl=round(max_file_length, 2)))\n",
    "        print('Minimum file length = {minfl}s'.format(minfl=round(min_file_length, 2)))\n",
    "        print('Mean file length = {meanfl}s'.format(meanfl=round(mean_file_length, 2)))\n",
    "        break"
   ]
  }
 ],
 "metadata": {
  "kernelspec": {
   "display_name": "Python 3",
   "language": "python",
   "name": "python3"
  },
  "language_info": {
   "codemirror_mode": {
    "name": "ipython",
    "version": 3
   },
   "file_extension": ".py",
   "mimetype": "text/x-python",
   "name": "python",
   "nbconvert_exporter": "python",
   "pygments_lexer": "ipython3",
   "version": "3.5.2"
  }
 },
 "nbformat": 4,
 "nbformat_minor": 2
}
