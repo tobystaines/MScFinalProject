{
 "cells": [
  {
   "cell_type": "markdown",
   "metadata": {},
   "source": [
    "## Mixing Audio - CHiME\n",
    "This file was used to create a new dataset consisting of voice, background noise and mixture, based on the clean voice and background noise provided in the CHiME 3 data set."
   ]
  },
  {
   "cell_type": "code",
   "execution_count": null,
   "metadata": {
    "collapsed": true
   },
   "outputs": [],
   "source": [
    "# Imports\n",
    "\n",
    "# This alows us to import directories which are stored at the level above this file\n",
    "import os,sys,inspect\n",
    "currentdir = os.path.dirname(os.path.abspath(inspect.getfile(inspect.currentframe())))\n",
    "parentdir = os.path.dirname(currentdir)\n",
    "sys.path.insert(0,parentdir)\n",
    "\n",
    "import numpy as np\n",
    "import soundfile as sf\n",
    "import librosa\n",
    "import IPython.display as ipd\n",
    "from sklearn.preprocessing import minmax_scale\n",
    "from glob import glob\n",
    "import re\n",
    "import matplotlib.pyplot as plt\n",
    "%matplotlib inline\n",
    "from shutil import copy\n",
    "import audio_functions as af\n",
    "import dataset"
   ]
  },
  {
   "cell_type": "code",
   "execution_count": null,
   "metadata": {
    "collapsed": true
   },
   "outputs": [],
   "source": [
    "def mix_audio(voice_file, background_file):\n",
    "    \"\"\"\n",
    "    Takes the location of two audio files (a voice file and a background noise file), \n",
    "    loads them, and mixes them with a 60:40 ratio. The first file must be shorter \n",
    "    than the second.\n",
    "\n",
    "    Args:\n",
    "    voice_file: String - The location of the first file.\n",
    "    background_file: String - The location of the second file.\n",
    "\n",
    "    Output:\n",
    "    norm_mix: 1D array - Normalised 60:40 mixture of voice and background_segment.\n",
    "    voice_sr: Int - The sample rate of the voice file (which the returned background noise also matches).\n",
    "    background_segment: 1D array - A background noise segment with len = len(voice).\n",
    "    voice: 1D array - the voice audio.\n",
    "    \"\"\"    \n",
    "    # Load the files\n",
    "    voice, voice_sr = sf.read(voice_file)\n",
    "    background, background_sr = sf.read(background_file)\n",
    "    \n",
    "    # Make sure the sample rates match\n",
    "    if voice_sr != background_sr:\n",
    "        librosa.resample(background, voice_sr)\n",
    "\n",
    "    # Select a segment of the background track to use\n",
    "    start_point = np.random.randint(len(background) - len(voice))\n",
    "    background_segment = background[start_point:start_point+len(voice)]\n",
    "\n",
    "    # Normalise both sources and mix\n",
    "    norm_voice = minmax_scale(voice, (-1,1))\n",
    "    norm_bgs = minmax_scale(background_segment,(-1,1))\n",
    "    norm_mix = (0.6*norm_voice) + (0.4*norm_bgs)\n",
    "    \n",
    "    return norm_mix, voice_sr, background_segment, voice"
   ]
  },
  {
   "cell_type": "code",
   "execution_count": null,
   "metadata": {
    "collapsed": true
   },
   "outputs": [],
   "source": [
    "# Copy the file structure\n",
    "\n",
    "inputpath = '/data/Speech_Data/CHiME3/data/audio/16kHz/isolated/'\n",
    "outputpath = '/home/enterprise.internal.city.ac.uk/acvn728/NewCHiME/'\n",
    "\n",
    "\n",
    "for dirpath, dirnames, filenames in os.walk(inputpath):\n",
    "    structure = os.path.join(outputpath, dirpath[len(inputpath):])\n",
    "    if not os.path.isdir(structure):\n",
    "        os.mkdir(structure)\n",
    "    else:\n",
    "        print(\"Folder already exits!\")\n",
    "for folder in os.listdir(outputpath):\n",
    "    if '_real' in folder:\n",
    "        os.rename(os.path.join(outputpath, folder),\n",
    "                  os.path.join(outputpath, folder[:-4] + 'bg'))"
   ]
  },
  {
   "cell_type": "markdown",
   "metadata": {},
   "source": [
    "### To Recreate the Development and Evaluation Sets:"
   ]
  },
  {
   "cell_type": "code",
   "execution_count": null,
   "metadata": {
    "collapsed": true
   },
   "outputs": [],
   "source": [
    "source = '/data/Speech_Data/CHiME3/data/audio/16kHz/isolated'\n",
    "destination = '/home/enterprise.internal.city.ac.uk/acvn728/NewCHiME'\n",
    "for directory in ['dt05_bth', 'et05_bth', 'tr05_org']:\n",
    "    file_list = os.listdir(os.path.join(source,directory))\n",
    "    for file in file_list:\n",
    "        copy(os.path.join(source,directory,file), os.path.join(destination,directory))"
   ]
  },
  {
   "cell_type": "code",
   "execution_count": null,
   "metadata": {
    "collapsed": true,
    "scrolled": true
   },
   "outputs": [],
   "source": [
    "count = 0\n",
    "background_file_list = glob('/data/Speech_Data/CHiME3/data/audio/16kHz/backgrounds/*.wav')\n",
    "count = 0\n",
    "for directory in ['/home/enterprise.internal.city.ac.uk/acvn728/NewCHiME/dt05_bth',\n",
    "                  '/home/enterprise.internal.city.ac.uk/acvn728/NewCHiME/et05_bth']:\n",
    "    # Get a list of the files\n",
    "    folder_name = directory[-8:]\n",
    "    file_list = os.listdir(directory)\n",
    "    # Leave out CH0 as they do not exist in the backgruond noise recordings\n",
    "    file_list = [f for f in file_list if re.search('CH0', f) is None]\n",
    "    \n",
    "    # Loop over files\n",
    "    for file in file_list:\n",
    "        for env in ['bus', 'caf', 'ped', 'str']:\n",
    "            # Work out the names and destinations for the new background and mixture files\n",
    "            new_file_name = file.split('BTH')[0] + env.upper() + file.split('BTH')[1]\n",
    "            new_mix_folder_name = folder_name[:-3] + env + '_simu'\n",
    "            new_mix_file_path = os.path.join(directory[:-8], new_mix_folder_name, new_file_name)\n",
    "            new_bg_folder_name = folder_name[:-3] + env + '_bg'\n",
    "            new_bg_file_path = os.path.join(directory[:-8], new_bg_folder_name, new_file_name) \n",
    "            # Check if file already exists\n",
    "            if os.path.isfile(new_mix_file_path):\n",
    "                print('File already exists!')\n",
    "                count += 1\n",
    "                continue\n",
    "            # Select a background file\n",
    "            suitable_files = [f for f in background_file_list if f[-7:] == new_file_name[-7:]] \n",
    "            background_file = suitable_files[np.random.randint(len(suitable_files))]\n",
    "            # Mix them\n",
    "            mixture, sample_rate, background_noise, _ = mix_audio(os.path.join(directory, file), background_file)\n",
    "            # Save to file\n",
    "            sf.write(new_mix_file_path, mixture, sample_rate)\n",
    "            sf.write(new_bg_file_path, background_noise, sample_rate)\n",
    "            count += 1\n",
    "            if count % 1000 == 0:\n",
    "                print('{c} files processed.'.format(c=count))"
   ]
  },
  {
   "cell_type": "markdown",
   "metadata": {},
   "source": [
    "### To Recreate the Training Set\n",
    "(which has a slightly different naming convention)"
   ]
  },
  {
   "cell_type": "code",
   "execution_count": null,
   "metadata": {
    "collapsed": true
   },
   "outputs": [],
   "source": [
    "background_file_list = glob('/data/Speech_Data/CHiME3/data/audio/16kHz/backgrounds/*.wav')\n",
    "original_voice_directory = '/data/Speech_Data/CHiME3/data/audio/16kHz/isolated/tr05_org'\n",
    "directory = '/home/enterprise.internal.city.ac.uk/acvn728/NewCHiME/tr05_org'\n",
    "folder_name = directory[-8:]\n",
    "count = 0\n",
    "\n",
    "for env in ['bus', 'caf', 'ped', 'str']:\n",
    "    orig_sim_directory = original_voice_directory[:-3] + env + '_simu'\n",
    "    file_list = os.listdir(orig_sim_directory)\n",
    "    file_list = set([f[:-11] for f in file_list])\n",
    "\n",
    "    # Loop over files\n",
    "    for file in file_list:\n",
    "        for i in range(1,7):\n",
    "            # Work out the names and destinations for the new background and mixture files\n",
    "            new_file_name = file + env.upper() + '.CH{num}.wav'.format(num=str(i))\n",
    "            new_mix_folder_name = folder_name[:-3] + env + '_simu'\n",
    "            new_mix_file_path = os.path.join(directory[:-8], new_mix_folder_name, new_file_name)\n",
    "            new_bg_folder_name = folder_name[:-3] + env + '_bg'\n",
    "            new_bg_file_path = os.path.join(directory[:-8], new_bg_folder_name, new_file_name)\n",
    "            # Check if file already exists\n",
    "            if os.path.isfile(new_mix_file_path):\n",
    "                print('File already exists!')\n",
    "                count += 1\n",
    "                continue\n",
    "            # Select a background file\n",
    "            suitable_files = [f for f in background_file_list if f[-11:] == new_file_name[-11:]] \n",
    "            background_file = suitable_files[np.random.randint(len(suitable_files))]\n",
    "            # Mix them\n",
    "            mixture, sample_rate, background_noise, _ = mix_audio(os.path.join(directory, file + 'ORG.wav'), background_file)\n",
    "            # Save to file\n",
    "            sf.write(new_mix_file_path, mixture, sample_rate)\n",
    "            sf.write(new_bg_file_path, background_noise, sample_rate)\n",
    "            count += 1\n",
    "            if count % 1000 == 0:\n",
    "                print('{c} files processed.'.format(c=count))"
   ]
  }
 ],
 "metadata": {
  "kernelspec": {
   "display_name": "Python 3",
   "language": "python",
   "name": "python3"
  },
  "language_info": {
   "codemirror_mode": {
    "name": "ipython",
    "version": 3
   },
   "file_extension": ".py",
   "mimetype": "text/x-python",
   "name": "python",
   "nbconvert_exporter": "python",
   "pygments_lexer": "ipython3",
   "version": "3.5.2"
  }
 },
 "nbformat": 4,
 "nbformat_minor": 2
}
