{
 "cells": [
  {
   "cell_type": "code",
   "execution_count": 3,
   "metadata": {},
   "outputs": [],
   "source": [
    "import capslayer as cl\n",
    "import tensorflow as tf"
   ]
  },
  {
   "cell_type": "code",
   "execution_count": null,
   "metadata": {
    "collapsed": true
   },
   "outputs": [],
   "source": [
    "class basicCapsNet(object):\n",
    "    \n",
    "    def __init__(self, input_tensor, is_training, reuse, name):\n",
    "        with tf.variable_scope(name):\n",
    "            self.input_tensor = input_tensor\n",
    "            self.is_training = is_training\n",
    "            \n",
    "            with tf.variable_scope('Primary_Caps'):\n",
    "                net, activation = cl.primaryCaps(inputs=input_tensor, \n",
    "                                                 filters=16, \n",
    "                                                 kernel_size=5, \n",
    "                                                 strides=(2,2),\n",
    "                                                 out_caps_dims=[8,1], \n",
    "                                                 method='norm')\n",
    "            \n",
    "            with tf.variable_scope('Conv_Caps'):\n",
    "                net = cl.conv2d(inputs=net,\n",
    "                                activation=activation,\n",
    "                                filters=####,\n",
    "                                out_caps_dims=####,\n",
    "                                kernel_size=5,\n",
    "                                strides=(2,2),\n",
    "                                padding=\"valid\",\n",
    "                                routing_method=\"EMRouting\",\n",
    "                                reuse=reuse)\n",
    "            \n",
    "            # Output of caps layers needs to be?\n",
    "            #           Mask of shape [input_tensor]\n",
    "            self.voice_mask = net\n",
    "            self.gen_voice = self.voice_mask * input_tensor\n",
    "            \n",
    "            self.cost = ####\n",
    "            self.optimizer = ####\n",
    "            self.training_op = ####"
   ]
  },
  {
   "cell_type": "code",
   "execution_count": null,
   "metadata": {
    "collapsed": true
   },
   "outputs": [],
   "source": [
    "class CapsUNetEncoder(object):\n",
    "    \"\"\"\n",
    "    The down-convolutional side of a capsule based U-Net model.\n",
    "    \"\"\"\n",
    "    def __init__(self, input_tensor, is_training, reuse):\n",
    "        net = input_tensor       \n",
    "        with tf.variable_scope('encoder'):\n",
    "            with tf.variable_scope('layer-1'):\n",
    "                net = cl.primaryCaps(inputs=net, \n",
    "                                     filters=16, kernel_size=5, strides=(2,2),\n",
    "                                     out_caps_dims=[8,1], method='norm')\n",
    "                self.l1 = net\n",
    "        \n",
    "        self.output = net"
   ]
  }
 ],
 "metadata": {
  "kernelspec": {
   "display_name": "Python 3",
   "language": "python",
   "name": "python3"
  },
  "language_info": {
   "codemirror_mode": {
    "name": "ipython",
    "version": 3
   },
   "file_extension": ".py",
   "mimetype": "text/x-python",
   "name": "python",
   "nbconvert_exporter": "python",
   "pygments_lexer": "ipython3",
   "version": "3.6.1"
  }
 },
 "nbformat": 4,
 "nbformat_minor": 2
}
